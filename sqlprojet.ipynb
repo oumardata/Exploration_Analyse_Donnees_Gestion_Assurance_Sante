{
 "cells": [
  {
   "cell_type": "markdown",
   "metadata": {},
   "source": [
    "Well, Well, Well,....\n",
    "Contexte: \n",
    "je suis dans un cadre ou je suis data analyst dans une compagnie d'assurrance: \n",
    "\n",
    "je vais creer une base de donnéés que je vais appellé Assurances \n",
    "Assurances aura les tables suivantes : \n",
    "Patients ( patient_id INTEGER PRIMARY KEY AUTOINCREMENT,\n",
    "    nom TEXT NOT NULL,\n",
    "    prenom TEXT NOT NULL,\n",
    "    date_naissance DATE NOT NULL,\n",
    "    adresse TEXT,\n",
    "    telephone TEXT,\n",
    "    email TEXT)                     20 PATIENTS\n",
    "\n",
    "\n",
    "\n",
    "\n",
    " Consultations (\n",
    "    consultation_id INTEGER PRIMARY KEY AUTOINCREMENT,\n",
    "    patient_id INTEGER NOT NULL,\n",
    "    pro_id INTEGER NOT NULL,\n",
    "    date_consultation DATE NOT NULL,\n",
    "    type_consultation TEXT NOT NULL,\n",
    "    cout_consultation REAL NOT NULL,\n",
    "    FOREIGN KEY (patient_id) REFERENCES Patients(patient_id),\n",
    "    FOREIGN KEY (pro_id) REFERENCES Professionnels_de_Sante(pro_id)\n",
    "\n",
    "    50 CONSULTATIONS\n",
    ")\n",
    "''')  qui aura les clés secondaires que j'expliquerai dans mon schema draw.io\n",
    "Professionnels_de_Sante (\n",
    "    pro_id INT AUTO_INCREMENT PRIMARY KEY,\n",
    "    nom VARCHAR(50) NOT NULL,\n",
    "    prenom VARCHAR(50) NOT NULL,\n",
    "    specialite VARCHAR(50) NOT NULL,\n",
    "    adresse VARCHAR(100),\n",
    "    telephone VARCHAR(15),\n",
    "    email VARCHAR(100)\n",
    "\n",
    "    10 PROFFESSIONNEL DE SANTE\n",
    " Medicaments (\n",
    "    medicament_id INT AUTO_INCREMENT PRIMARY KEY,\n",
    "    nom_medicament VARCHAR(100) NOT NULL,\n",
    "    prix_unitaire DECIMAL(10, 2) NOT NULL\n",
    "     Prescriptions (\n",
    "    prescription_id INT AUTO_INCREMENT PRIMARY KEY,\n",
    "    consultation_id INT NOT NULL,\n",
    "    medicament_id INT NOT NULL,\n",
    "    quantite INT NOT NULL,\n",
    "    FOREIGN KEY (consultation_id) REFERENCES Consultations(consultation_id),\n",
    "    FOREIGN KEY (medicament_id) REFERENCES Medicaments(medicament_id)\n",
    ");\n",
    "10 medicaments\n",
    "\n",
    "-- Table Remboursements \n",
    "CREATE TABLE Remboursements (\n",
    "    remboursement_id INT AUTO_INCREMENT PRIMARY KEY,\n",
    "    consultation_id INT NOT NULL,\n",
    "    montant_rembourse DECIMAL(10, 2) NOT NULL,\n",
    "    date_remboursement DATE NOT NULL,\n",
    "    FOREIGN KEY (consultation_id) REFERENCES Consultations(consultation_id)  \n",
    "    50 MEDICAMENTS     \n"
   ]
  },
  {
   "cell_type": "code",
   "execution_count": 3,
   "metadata": {},
   "outputs": [],
   "source": [
    "import sqlite3"
   ]
  },
  {
   "cell_type": "code",
   "execution_count": 4,
   "metadata": {},
   "outputs": [],
   "source": [
    "# 1. Connexion à la base de données \n",
    "conn = sqlite3.connect('Assurrances.db')\n",
    "cursor = conn.cursor()"
   ]
  },
  {
   "cell_type": "code",
   "execution_count": 5,
   "metadata": {},
   "outputs": [
    {
     "data": {
      "text/plain": [
       "<sqlite3.Cursor at 0x1835cad3540>"
      ]
     },
     "execution_count": 5,
     "metadata": {},
     "output_type": "execute_result"
    }
   ],
   "source": [
    "# 2. Création des tables\n",
    "cursor.execute('''\n",
    "CREATE TABLE IF NOT EXISTS Patients (\n",
    "    patient_id INTEGER PRIMARY KEY AUTOINCREMENT,\n",
    "    nom TEXT NOT NULL,\n",
    "    prenom TEXT NOT NULL,\n",
    "    date_naissance DATE NOT NULL,\n",
    "    adresse TEXT,\n",
    "    telephone TEXT,\n",
    "    email TEXT\n",
    ")\n",
    "''')\n",
    "\n",
    "cursor.execute('''\n",
    "INSERT INTO Patients (nom, prenom, date_naissance, adresse, telephone, email) VALUES\n",
    "('Dupont', 'Jean', '1980-05-15', '123 Rue de Paris', '0123456789', 'jean.dupont@example.com'),\n",
    "('Martin', 'Sophie', '1992-08-22', '456 Rue de Lyon', '0987654321', 'sophie.martin@example.com'),\n",
    "('Bernard', 'Luc', '1975-03-10', '789 Rue de Marseille', '0654321987', 'luc.bernard@example.com'),\n",
    "('Petit', 'Marie', '1988-11-30', '321 Rue de Bordeaux', '0678912345', 'marie.petit@example.com'),\n",
    "('Moreau', 'Pierre', '1995-07-14', '654 Rue de Lille', '0765432198', 'pierre.moreau@example.com'),\n",
    "('Lefebvre', 'Julie', '1983-09-25', '987 Rue de Nice', '0789123456', 'julie.lefebvre@example.com'),\n",
    "('Roux', 'Thomas', '1990-12-05', '159 Rue de Toulouse', '0654987123', 'thomas.roux@example.com'),\n",
    "('Fournier', 'Laura', '1987-04-18', '753 Rue de Nantes', '0678912345', 'laura.fournier@example.com'),\n",
    "('Girard', 'Nicolas', '1979-06-20', '852 Rue de Strasbourg', '0765432198', 'nicolas.girard@example.com'),\n",
    "('Bonnet', 'Alice', '1998-02-12', '951 Rue de Montpellier', '0789123456', 'alice.bonnet@example.com'),\n",
    "('Dubois', 'Paul', '1982-10-08', '357 Rue de Rennes', '0654987123', 'paul.dubois@example.com'),\n",
    "('Lambert', 'Chloé', '1993-01-19', '456 Rue de Reims', '0678912345', 'chloe.lambert@example.com'),\n",
    "('Fontaine', 'Antoine', '1976-07-23', '852 Rue de Le Havre', '0765432198', 'antoine.fontaine@example.com'),\n",
    "('Rousseau', 'Elise', '1989-03-27', '753 Rue de Toulon', '0789123456', 'elise.rousseau@example.com'),\n",
    "('Vincent', 'Hugo', '1991-05-30', '159 Rue de Grenoble', '0654987123', 'hugo.vincent@example.com'),\n",
    "('Muller', 'Léa', '1984-08-14', '654 Rue de Dijon', '0678912345', 'lea.muller@example.com'),\n",
    "('Leroy', 'Mathieu', '1978-11-09', '987 Rue de Angers', '0765432198', 'mathieu.leroy@example.com'),\n",
    "('Blanc', 'Camille', '1996-04-03', '321 Rue de Nîmes', '0789123456', 'camille.blanc@example.com'),\n",
    "('Garnier', 'Julien', '1981-12-17', '123 Rue de Clermont-Ferrand', '0654987123', 'julien.garnier@example.com'),\n",
    "('Caron', 'Manon', '1994-06-28', '456 Rue de Amiens', '0678912345', 'manon.caron@example.com'\n",
    ")               \n",
    "''')"
   ]
  },
  {
   "cell_type": "markdown",
   "metadata": {},
   "source": [
    "je verifie bien si mes donnes sont la , si ce que je fais marche bien "
   ]
  },
  {
   "cell_type": "code",
   "execution_count": 6,
   "metadata": {},
   "outputs": [
    {
     "name": "stdout",
     "output_type": "stream",
     "text": [
      "Liste des patients : [(1, 'Dupont', 'Jean', '1980-05-15', '123 Rue de Paris', '0123456789', 'jean.dupont@example.com'), (2, 'Martin', 'Sophie', '1992-08-22', '456 Rue de Lyon', '0987654321', 'sophie.martin@example.com'), (3, 'Bernard', 'Luc', '1975-03-10', '789 Rue de Marseille', '0654321987', 'luc.bernard@example.com'), (4, 'Petit', 'Marie', '1988-11-30', '321 Rue de Bordeaux', '0678912345', 'marie.petit@example.com'), (5, 'Moreau', 'Pierre', '1995-07-14', '654 Rue de Lille', '0765432198', 'pierre.moreau@example.com'), (6, 'Lefebvre', 'Julie', '1983-09-25', '987 Rue de Nice', '0789123456', 'julie.lefebvre@example.com'), (7, 'Roux', 'Thomas', '1990-12-05', '159 Rue de Toulouse', '0654987123', 'thomas.roux@example.com'), (8, 'Fournier', 'Laura', '1987-04-18', '753 Rue de Nantes', '0678912345', 'laura.fournier@example.com'), (9, 'Girard', 'Nicolas', '1979-06-20', '852 Rue de Strasbourg', '0765432198', 'nicolas.girard@example.com'), (10, 'Bonnet', 'Alice', '1998-02-12', '951 Rue de Montpellier', '0789123456', 'alice.bonnet@example.com'), (11, 'Dubois', 'Paul', '1982-10-08', '357 Rue de Rennes', '0654987123', 'paul.dubois@example.com'), (12, 'Lambert', 'Chloé', '1993-01-19', '456 Rue de Reims', '0678912345', 'chloe.lambert@example.com'), (13, 'Fontaine', 'Antoine', '1976-07-23', '852 Rue de Le Havre', '0765432198', 'antoine.fontaine@example.com'), (14, 'Rousseau', 'Elise', '1989-03-27', '753 Rue de Toulon', '0789123456', 'elise.rousseau@example.com'), (15, 'Vincent', 'Hugo', '1991-05-30', '159 Rue de Grenoble', '0654987123', 'hugo.vincent@example.com'), (16, 'Muller', 'Léa', '1984-08-14', '654 Rue de Dijon', '0678912345', 'lea.muller@example.com'), (17, 'Leroy', 'Mathieu', '1978-11-09', '987 Rue de Angers', '0765432198', 'mathieu.leroy@example.com'), (18, 'Blanc', 'Camille', '1996-04-03', '321 Rue de Nîmes', '0789123456', 'camille.blanc@example.com'), (19, 'Garnier', 'Julien', '1981-12-17', '123 Rue de Clermont-Ferrand', '0654987123', 'julien.garnier@example.com'), (20, 'Caron', 'Manon', '1994-06-28', '456 Rue de Amiens', '0678912345', 'manon.caron@example.com'), (21, 'Dupont', 'Jean', '1980-05-15', '123 Rue de Paris', '0123456789', 'jean.dupont@example.com'), (22, 'Martin', 'Sophie', '1992-08-22', '456 Rue de Lyon', '0987654321', 'sophie.martin@example.com'), (23, 'Bernard', 'Luc', '1975-03-10', '789 Rue de Marseille', '0654321987', 'luc.bernard@example.com'), (24, 'Petit', 'Marie', '1988-11-30', '321 Rue de Bordeaux', '0678912345', 'marie.petit@example.com'), (25, 'Moreau', 'Pierre', '1995-07-14', '654 Rue de Lille', '0765432198', 'pierre.moreau@example.com'), (26, 'Lefebvre', 'Julie', '1983-09-25', '987 Rue de Nice', '0789123456', 'julie.lefebvre@example.com'), (27, 'Roux', 'Thomas', '1990-12-05', '159 Rue de Toulouse', '0654987123', 'thomas.roux@example.com'), (28, 'Fournier', 'Laura', '1987-04-18', '753 Rue de Nantes', '0678912345', 'laura.fournier@example.com'), (29, 'Girard', 'Nicolas', '1979-06-20', '852 Rue de Strasbourg', '0765432198', 'nicolas.girard@example.com'), (30, 'Bonnet', 'Alice', '1998-02-12', '951 Rue de Montpellier', '0789123456', 'alice.bonnet@example.com'), (31, 'Dubois', 'Paul', '1982-10-08', '357 Rue de Rennes', '0654987123', 'paul.dubois@example.com'), (32, 'Lambert', 'Chloé', '1993-01-19', '456 Rue de Reims', '0678912345', 'chloe.lambert@example.com'), (33, 'Fontaine', 'Antoine', '1976-07-23', '852 Rue de Le Havre', '0765432198', 'antoine.fontaine@example.com'), (34, 'Rousseau', 'Elise', '1989-03-27', '753 Rue de Toulon', '0789123456', 'elise.rousseau@example.com'), (35, 'Vincent', 'Hugo', '1991-05-30', '159 Rue de Grenoble', '0654987123', 'hugo.vincent@example.com'), (36, 'Muller', 'Léa', '1984-08-14', '654 Rue de Dijon', '0678912345', 'lea.muller@example.com'), (37, 'Leroy', 'Mathieu', '1978-11-09', '987 Rue de Angers', '0765432198', 'mathieu.leroy@example.com'), (38, 'Blanc', 'Camille', '1996-04-03', '321 Rue de Nîmes', '0789123456', 'camille.blanc@example.com'), (39, 'Garnier', 'Julien', '1981-12-17', '123 Rue de Clermont-Ferrand', '0654987123', 'julien.garnier@example.com'), (40, 'Caron', 'Manon', '1994-06-28', '456 Rue de Amiens', '0678912345', 'manon.caron@example.com'), (41, 'Dupont', 'Jean', '1980-05-15', '123 Rue de Paris', '0123456789', 'jean.dupont@example.com'), (42, 'Martin', 'Sophie', '1992-08-22', '456 Rue de Lyon', '0987654321', 'sophie.martin@example.com'), (43, 'Bernard', 'Luc', '1975-03-10', '789 Rue de Marseille', '0654321987', 'luc.bernard@example.com'), (44, 'Petit', 'Marie', '1988-11-30', '321 Rue de Bordeaux', '0678912345', 'marie.petit@example.com'), (45, 'Moreau', 'Pierre', '1995-07-14', '654 Rue de Lille', '0765432198', 'pierre.moreau@example.com'), (46, 'Lefebvre', 'Julie', '1983-09-25', '987 Rue de Nice', '0789123456', 'julie.lefebvre@example.com'), (47, 'Roux', 'Thomas', '1990-12-05', '159 Rue de Toulouse', '0654987123', 'thomas.roux@example.com'), (48, 'Fournier', 'Laura', '1987-04-18', '753 Rue de Nantes', '0678912345', 'laura.fournier@example.com'), (49, 'Girard', 'Nicolas', '1979-06-20', '852 Rue de Strasbourg', '0765432198', 'nicolas.girard@example.com'), (50, 'Bonnet', 'Alice', '1998-02-12', '951 Rue de Montpellier', '0789123456', 'alice.bonnet@example.com'), (51, 'Dubois', 'Paul', '1982-10-08', '357 Rue de Rennes', '0654987123', 'paul.dubois@example.com'), (52, 'Lambert', 'Chloé', '1993-01-19', '456 Rue de Reims', '0678912345', 'chloe.lambert@example.com'), (53, 'Fontaine', 'Antoine', '1976-07-23', '852 Rue de Le Havre', '0765432198', 'antoine.fontaine@example.com'), (54, 'Rousseau', 'Elise', '1989-03-27', '753 Rue de Toulon', '0789123456', 'elise.rousseau@example.com'), (55, 'Vincent', 'Hugo', '1991-05-30', '159 Rue de Grenoble', '0654987123', 'hugo.vincent@example.com'), (56, 'Muller', 'Léa', '1984-08-14', '654 Rue de Dijon', '0678912345', 'lea.muller@example.com'), (57, 'Leroy', 'Mathieu', '1978-11-09', '987 Rue de Angers', '0765432198', 'mathieu.leroy@example.com'), (58, 'Blanc', 'Camille', '1996-04-03', '321 Rue de Nîmes', '0789123456', 'camille.blanc@example.com'), (59, 'Garnier', 'Julien', '1981-12-17', '123 Rue de Clermont-Ferrand', '0654987123', 'julien.garnier@example.com'), (60, 'Caron', 'Manon', '1994-06-28', '456 Rue de Amiens', '0678912345', 'manon.caron@example.com'), (61, 'Dupont', 'Jean', '1980-05-15', '123 Rue de Paris', '0123456789', 'jean.dupont@example.com'), (62, 'Martin', 'Sophie', '1992-08-22', '456 Rue de Lyon', '0987654321', 'sophie.martin@example.com'), (63, 'Bernard', 'Luc', '1975-03-10', '789 Rue de Marseille', '0654321987', 'luc.bernard@example.com'), (64, 'Petit', 'Marie', '1988-11-30', '321 Rue de Bordeaux', '0678912345', 'marie.petit@example.com'), (65, 'Moreau', 'Pierre', '1995-07-14', '654 Rue de Lille', '0765432198', 'pierre.moreau@example.com'), (66, 'Lefebvre', 'Julie', '1983-09-25', '987 Rue de Nice', '0789123456', 'julie.lefebvre@example.com'), (67, 'Roux', 'Thomas', '1990-12-05', '159 Rue de Toulouse', '0654987123', 'thomas.roux@example.com'), (68, 'Fournier', 'Laura', '1987-04-18', '753 Rue de Nantes', '0678912345', 'laura.fournier@example.com'), (69, 'Girard', 'Nicolas', '1979-06-20', '852 Rue de Strasbourg', '0765432198', 'nicolas.girard@example.com'), (70, 'Bonnet', 'Alice', '1998-02-12', '951 Rue de Montpellier', '0789123456', 'alice.bonnet@example.com'), (71, 'Dubois', 'Paul', '1982-10-08', '357 Rue de Rennes', '0654987123', 'paul.dubois@example.com'), (72, 'Lambert', 'Chloé', '1993-01-19', '456 Rue de Reims', '0678912345', 'chloe.lambert@example.com'), (73, 'Fontaine', 'Antoine', '1976-07-23', '852 Rue de Le Havre', '0765432198', 'antoine.fontaine@example.com'), (74, 'Rousseau', 'Elise', '1989-03-27', '753 Rue de Toulon', '0789123456', 'elise.rousseau@example.com'), (75, 'Vincent', 'Hugo', '1991-05-30', '159 Rue de Grenoble', '0654987123', 'hugo.vincent@example.com'), (76, 'Muller', 'Léa', '1984-08-14', '654 Rue de Dijon', '0678912345', 'lea.muller@example.com'), (77, 'Leroy', 'Mathieu', '1978-11-09', '987 Rue de Angers', '0765432198', 'mathieu.leroy@example.com'), (78, 'Blanc', 'Camille', '1996-04-03', '321 Rue de Nîmes', '0789123456', 'camille.blanc@example.com'), (79, 'Garnier', 'Julien', '1981-12-17', '123 Rue de Clermont-Ferrand', '0654987123', 'julien.garnier@example.com'), (80, 'Caron', 'Manon', '1994-06-28', '456 Rue de Amiens', '0678912345', 'manon.caron@example.com')]\n"
     ]
    }
   ],
   "source": [
    "# 4. Validation des changements\n",
    "conn.commit()\n",
    "\n",
    "# 5. Récupération des données\n",
    "cursor.execute('SELECT * FROM Patients')\n",
    "patients = cursor.fetchall()\n",
    "print(\"Liste des patients :\", patients)\n"
   ]
  },
  {
   "cell_type": "markdown",
   "metadata": {},
   "source": [
    "je continue a creer mes autres tables."
   ]
  },
  {
   "cell_type": "code",
   "execution_count": 7,
   "metadata": {},
   "outputs": [
    {
     "data": {
      "text/plain": [
       "<sqlite3.Cursor at 0x1835cad3540>"
      ]
     },
     "execution_count": 7,
     "metadata": {},
     "output_type": "execute_result"
    }
   ],
   "source": [
    "cursor.execute('''\n",
    "CREATE TABLE Professionnels_de_Sante (\n",
    "    pro_id INT AUTO_INCREMENT PRIMARY KEY,\n",
    "    nom VARCHAR(50) NOT NULL,\n",
    "    prenom VARCHAR(50) NOT NULL,\n",
    "    specialite VARCHAR(50) NOT NULL,\n",
    "    adresse VARCHAR(100),\n",
    "    telephone VARCHAR(15),\n",
    "    email VARCHAR(100)\n",
    ")               \n",
    "''')  \n",
    "cursor.execute('''\n",
    "\n",
    "\n",
    "INSERT INTO Professionnels_de_Sante (nom, prenom, specialite, adresse, telephone, email) VALUES\n",
    "('Martin', 'Sophie', 'Généraliste', '123 Rue de Paris', '0123456789', 'sophie.martin@example.com'),\n",
    "('Bernard', 'Luc', 'Cardiologue', '456 Rue de Lyon', '0987654321', 'luc.bernard@example.com'),\n",
    "('Petit', 'Marie', 'Dermatologue', '789 Rue de Marseille', '0654321987', 'marie.petit@example.com'),\n",
    "('Moreau', 'Pierre', 'Pédiatre', '321 Rue de Bordeaux', '0678912345', 'pierre.moreau@example.com'),\n",
    "('Lefebvre', 'Julie', 'Psychologue', '654 Rue de Lille', '0765432198', 'julie.lefebvre@example.com'),\n",
    "('Roux', 'Thomas', 'Kinésithérapeute', '987 Rue de Nice', '0789123456', 'thomas.roux@example.com'),\n",
    "('Fournier', 'Laura', 'Ophtalmologue', '159 Rue de Toulouse', '0654987123', 'laura.fournier@example.com'),\n",
    "('Girard', 'Nicolas', 'ORL', '753 Rue de Nantes', '0678912345', 'nicolas.girard@example.com'),\n",
    "('Bonnet', 'Alice', 'Gynécologue', '852 Rue de Strasbourg', '0765432198', 'alice.bonnet@example.com'),\n",
    "('Dubois', 'Paul', 'Dentiste', '951 Rue de Montpellier', '0789123456', 'paul.dubois@example.com')\n",
    " ''')                         "
   ]
  },
  {
   "cell_type": "code",
   "execution_count": 8,
   "metadata": {},
   "outputs": [
    {
     "data": {
      "text/plain": [
       "<sqlite3.Cursor at 0x1835cad3540>"
      ]
     },
     "execution_count": 8,
     "metadata": {},
     "output_type": "execute_result"
    }
   ],
   "source": [
    "cursor.execute('''\n",
    "CREATE TABLE IF NOT EXISTS Consultations (\n",
    "    consultation_id INTEGER PRIMARY KEY AUTOINCREMENT,\n",
    "    patient_id INTEGER NOT NULL,\n",
    "    pro_id INTEGER NOT NULL,\n",
    "    date_consultation DATE NOT NULL,\n",
    "    type_consultation TEXT NOT NULL,\n",
    "    cout_consultation REAL NOT NULL,\n",
    "    FOREIGN KEY (patient_id) REFERENCES Patients(patient_id),\n",
    "    FOREIGN KEY (pro_id) REFERENCES Professionnels_de_Sante(pro_id)\n",
    ")\n",
    "''')\n",
    "cursor.execute('''\n",
    "INSERT INTO Consultations (patient_id, pro_id, date_consultation, type_consultation, cout_consultation) VALUES\n",
    "(1, 1, '2025-01-24', 'Médicale', 50.00),\n",
    "(2, 2, '2025-01-25', 'Médicale', 60.00),\n",
    "(3, 3, '2025-01-26', 'Paramédicale', 40.00),\n",
    "(4, 4, '2025-01-27', 'Médicale', 55.00),\n",
    "(5, 5, '2025-01-28', 'Paramédicale', 45.00),\n",
    "(6, 6, '2025-01-29', 'Paramédicale', 35.00),\n",
    "(7, 7, '2025-01-30', 'Médicale', 70.00),\n",
    "(8, 8, '2025-01-31', 'Médicale', 65.00),\n",
    "(9, 9, '2025-02-01', 'Paramédicale', 50.00),\n",
    "(10, 10, '2025-02-02', 'Médicale', 60.00),\n",
    "(11, 1, '2025-02-03', 'Médicale', 50.00),\n",
    "(12, 2, '2025-02-04', 'Médicale', 60.00),\n",
    "(13, 3, '2025-02-05', 'Paramédicale', 40.00),\n",
    "(14, 4, '2025-02-06', 'Médicale', 55.00),\n",
    "(15, 5, '2025-02-07', 'Paramédicale', 45.00),\n",
    "(16, 6, '2025-02-08', 'Paramédicale', 35.00),\n",
    "(17, 7, '2025-02-09', 'Médicale', 70.00),\n",
    "(18, 8, '2025-02-10', 'Médicale', 65.00),\n",
    "(19, 9, '2025-02-11', 'Paramédicale', 50.00),\n",
    "(20, 10, '2025-02-12', 'Médicale', 60.00),\n",
    "(1, 2, '2025-02-13', 'Médicale', 50.00),\n",
    "(2, 3, '2025-02-14', 'Paramédicale', 40.00),\n",
    "(3, 4, '2025-02-15', 'Médicale', 55.00),\n",
    "(4, 5, '2025-02-16', 'Paramédicale', 45.00),\n",
    "(5, 6, '2025-02-17', 'Paramédicale', 35.00),\n",
    "(6, 7, '2025-02-18', 'Médicale', 70.00),\n",
    "(7, 8, '2025-02-19', 'Médicale', 65.00),\n",
    "(8, 9, '2025-02-20', 'Paramédicale', 50.00),\n",
    "(9, 10, '2025-02-21', 'Médicale', 60.00),\n",
    "(10, 1, '2025-02-22', 'Médicale', 50.00),\n",
    "(11, 2, '2025-02-23', 'Médicale', 60.00),\n",
    "(12, 3, '2025-02-24', 'Paramédicale', 40.00),\n",
    "(13, 4, '2025-02-25', 'Médicale', 55.00),\n",
    "(14, 5, '2025-02-26', 'Paramédicale', 45.00),\n",
    "(15, 6, '2025-02-27', 'Paramédicale', 35.00),\n",
    "(16, 7, '2025-02-28', 'Médicale', 70.00),\n",
    "(17, 8, '2025-03-01', 'Médicale', 65.00),\n",
    "(18, 9, '2025-03-02', 'Paramédicale', 50.00),\n",
    "(19, 10, '2025-03-03', 'Médicale', 60.00),\n",
    "(20, 1, '2025-03-04', 'Médicale', 50.00),\n",
    "(1, 3, '2025-03-05', 'Paramédicale', 40.00),\n",
    "(2, 4, '2025-03-05', 'Médicale', 55.00),\n",
    "(3, 5, '2025-03-05', 'Paramédicale', 45.00),\n",
    "(4, 6, '2025-03-05', 'Paramédicale', 35.00),\n",
    "(5, 7, '2025-03-05', 'Médicale', 70.00),\n",
    "(6, 8, '2025-03-05', 'Médicale', 65.00),\n",
    "(7, 9, '2025-03-05', 'Paramédicale', 50.00),\n",
    "(8, 10, '2025-03-05', 'Médicale', 60.00),\n",
    "(9, 1, '2025-03-05', 'Médicale', 50.00),\n",
    "(10, 2, '2025-03-05', 'Médicale', 60.00);\n",
    "\n",
    "''')                              "
   ]
  },
  {
   "cell_type": "code",
   "execution_count": 9,
   "metadata": {},
   "outputs": [
    {
     "data": {
      "text/plain": [
       "<sqlite3.Cursor at 0x1835cad3540>"
      ]
     },
     "execution_count": 9,
     "metadata": {},
     "output_type": "execute_result"
    }
   ],
   "source": [
    "cursor.execute('''\n",
    "CREATE TABLE if not exists Medicaments (\n",
    "    medicament_id INT AUTO_INCREMENT PRIMARY KEY,\n",
    "    nom_medicament VARCHAR(100) NOT NULL,\n",
    "    prix_unitaire DECIMAL(10, 2) NOT NULL\n",
    ")               \n",
    "''')  \n",
    "cursor.execute('''\n",
    "INSERT INTO Medicaments (nom_medicament, prix_unitaire) VALUES\n",
    "('Paracétamol', 5.00),\n",
    "('Ibuprofène', 7.00),\n",
    "('Amoxicilline', 10.00),\n",
    "('Doliprane', 6.00),\n",
    "('Voltarène', 8.00),\n",
    "('Smecta', 4.00),\n",
    "('Levothyrox', 12.00),\n",
    "('Ventoline', 15.00),\n",
    "('Dafalgan', 5.50),\n",
    "('Spasfon', 6.50)\n",
    "''') \n",
    "\n"
   ]
  },
  {
   "cell_type": "code",
   "execution_count": 10,
   "metadata": {},
   "outputs": [
    {
     "data": {
      "text/plain": [
       "<sqlite3.Cursor at 0x1835cad3540>"
      ]
     },
     "execution_count": 10,
     "metadata": {},
     "output_type": "execute_result"
    }
   ],
   "source": [
    "#  Table Prescriptions\n",
    "cursor.execute('''\n",
    "CREATE TABLE Prescriptions (\n",
    "    prescription_id INT AUTO_INCREMENT PRIMARY KEY,\n",
    "    consultation_id INT NOT NULL,\n",
    "    medicament_id INT NOT NULL,\n",
    "    quantite INT NOT NULL,\n",
    "    FOREIGN KEY (consultation_id) REFERENCES Consultations(consultation_id),\n",
    "    FOREIGN KEY (medicament_id) REFERENCES Medicaments(medicament_id)\n",
    ")\n",
    "''')\n",
    "cursor.execute('''\n",
    "INSERT INTO Prescriptions (consultation_id, medicament_id, quantite) VALUES\n",
    "(1, 1, 2),\n",
    "(2, 2, 1),\n",
    "(3, 3, 3),\n",
    "(4, 4, 2),\n",
    "(5, 5, 1),\n",
    "(6, 6, 4),\n",
    "(7, 7, 1),\n",
    "(8, 8, 2),\n",
    "(9, 9, 3),\n",
    "(10, 10, 1),\n",
    "(11, 2, 1),\n",
    "(12, 3, 3),\n",
    "(13, 4, 2),\n",
    "(14, 5, 1),\n",
    "(15, 6, 4),\n",
    "(16, 7, 1),\n",
    "(17, 8, 2),\n",
    "(18, 9, 3),\n",
    "(19, 10, 1),\n",
    "(20, 1, 2),\n",
    "(21, 2, 1),\n",
    "(22, 3, 3),\n",
    "(23, 4, 2),\n",
    "(24, 5, 1),\n",
    "(25, 6, 4),\n",
    "(26, 7, 1),\n",
    "(27, 8, 2),\n",
    "(28, 9, 3),\n",
    "(29, 10, 1),\n",
    "(30, 1, 2),\n",
    "(31, 2, 1),\n",
    "(32, 3, 3),\n",
    "(33, 4, 2),\n",
    "(34, 5, 1),\n",
    "(35, 6, 4),\n",
    "(36, 7, 1),\n",
    "(37, 8, 2),\n",
    "(38, 9, 3),\n",
    "(39, 10, 1),\n",
    "(40, 1, 2),\n",
    "(41, 2, 1),\n",
    "(42, 3, 3),\n",
    "(43, 4, 2),\n",
    "(44, 5, 1),\n",
    "(45, 6, 4),\n",
    "(46, 7, 1),\n",
    "(47, 8, 2),\n",
    "(48, 9, 3),\n",
    "(49, 10, 1),\n",
    "(50, 1, 2)\n",
    "''')                              \n",
    "  \n",
    "               \n"
   ]
  },
  {
   "cell_type": "code",
   "execution_count": 23,
   "metadata": {},
   "outputs": [
    {
     "data": {
      "text/plain": [
       "<sqlite3.Cursor at 0x1835cad3540>"
      ]
     },
     "execution_count": 23,
     "metadata": {},
     "output_type": "execute_result"
    }
   ],
   "source": [
    "# Table rembourssements \n",
    "cursor.execute('''\n",
    "CREATE TABLE if not exists Remboursement (\n",
    "    remboursement_id INT AUTO_INCREMENT PRIMARY KEY,\n",
    "    consultation_id INT NOT NULL,\n",
    "    montant_rembourse DECIMAL(10, 2) NOT NULL,\n",
    "    date_remboursement DATE NOT NULL,\n",
    "    FOREIGN KEY (consultation_id) REFERENCES Consultations(consultation_id)\n",
    ")\n",
    "''')\n",
    "cursor.execute('''\n",
    "INSERT INTO Remboursement (consultation_id, montant_rembourse, date_remboursement) VALUES\n",
    "(1, 40.00, '2025-01-29'),\n",
    "(2, 50.00, '2025-01-30'),\n",
    "(3, 30.00, '2025-01-31'),\n",
    "(4, 45.00, '2025-02-01'),\n",
    "(5, 35.00, '2025-02-02'),\n",
    "(6, 25.00, '2025-02-03'),\n",
    "(7, 60.00, '2025-02-04'),\n",
    "(8, 55.00, '2025-02-05'),\n",
    "(9, 40.00, '2025-02-06'),\n",
    "(10, 50.00, '2025-02-07'),\n",
    "(11, 40.00, '2025-02-08'),\n",
    "(12, 50.00, '2025-02-09'),\n",
    "(13, 30.00, '2025-02-10'),\n",
    "(14, 45.00, '2025-02-11'),\n",
    "(15, 35.00, '2025-02-12'),\n",
    "(16, 25.00, '2025-02-13'),\n",
    "(17, 60.00, '2025-02-14'),\n",
    "(18, 55.00, '2025-02-15'),\n",
    "(19, 40.00, '2025-02-16'),\n",
    "(20, 50.00, '2025-02-17'),\n",
    "(21, 40.00, '2025-02-18'),\n",
    "(22, 50.00, '2025-02-19'),\n",
    "(23, 30.00, '2025-02-20'),\n",
    "(24, 45.00, '2025-02-21'),\n",
    "(25, 35.00, '2025-02-22'),\n",
    "(26, 25.00, '2025-02-23'),\n",
    "(27, 60.00, '2025-02-24'),\n",
    "(28, 55.00, '2025-02-25'),\n",
    "(29, 40.00, '2025-02-26'),\n",
    "(30, 50.00, '2025-02-27'),\n",
    "(31, 40.00, '2025-02-28'),\n",
    "(32, 50.00, '2025-03-01'),\n",
    "(33, 30.00, '2025-03-02'),\n",
    "(34, 45.00, '2025-03-03'),\n",
    "(35, 35.00, '2025-03-04'),\n",
    "(36, 25.00, '2025-03-05'),\n",
    "(37, 60.00, '2025-03-06'),\n",
    "(38, 55.00, '2025-03-07'),\n",
    "(39, 40.00, '2025-03-08'),\n",
    "(40, 50.00, '2025-03-09'),\n",
    "(41, 40.00, '2025-03-10'),\n",
    "(42, 50.00, '2025-03-10'),\n",
    "(43, 30.00, '2025-03-10'),\n",
    "(44, 45.00, '2025-03-10'),\n",
    "(45, 35.00, '2025-03-10'),\n",
    "(46, 25.00, '2025-03-10'),\n",
    "(47, 60.00, '2025-03-10'),\n",
    "(48, 55.00, '2025-03-10'),\n",
    "(49, 40.00, '2025-03-10'),\n",
    "(50, 50.00, '2025-03-10')\n",
    "''')                                              \n"
   ]
  },
  {
   "cell_type": "code",
   "execution_count": 21,
   "metadata": {},
   "outputs": [
    {
     "data": {
      "image/png": "[encoded data removed]",
      "text/plain": [
       "<Figure size 640x480 with 1 Axes>"
      ]
     },
     "metadata": {},
     "output_type": "display_data"
    }
   ],
   "source": [
    "import matplotlib.pyplot as plt\n",
    "import matplotlib.image as mpimg\n",
    "\n",
    "# Chemin vers votre capture d'écran\n",
    "image_path = r\"C:/Users/oumar/OneDrive/Bureau/Capture d'écran 2025-03-05 165307.png\"\n",
    "\n",
    "# Charger l'image\n",
    "img = mpimg.imread(image_path)\n",
    "\n",
    "# Afficher l'image\n",
    "plt.imshow(img)\n",
    "plt.axis('off')  # Désactiver les axes\n",
    "plt.show()"
   ]
  },
  {
   "cell_type": "markdown",
   "metadata": {},
   "source": [
    "EXPLICATIONS.\n",
    "Patients (1) → (Many) Consultations\n",
    "\n",
    "Professionnels de Santé (1) → (Many) Consultations\n",
    "\n",
    "Consultations (1) → (Many) Prescriptions\n",
    "\n",
    "Médicaments (1) → (Many) Prescriptions\n",
    "\n",
    "Consultations (1) → (1) Remboursements"
   ]
  },
  {
   "cell_type": "markdown",
   "metadata": {},
   "source": [
    "ANALYSONS LES DONNES ENSEMBLES EN REPONDANTS AUX QUESTIONS POSEES."
   ]
  },
  {
   "cell_type": "code",
   "execution_count": 20,
   "metadata": {},
   "outputs": [
    {
     "name": "stdout",
     "output_type": "stream",
     "text": [
      "1. Patients ayant eu des consultations médicales récemment\n",
      "[]\n"
     ]
    }
   ],
   "source": [
    "# 1. Patients ayant eu des consultations médicales récemment\n",
    "print(\"1. Patients ayant eu des consultations médicales récemment\")\n",
    "cursor.execute('''\n",
    "    SELECT p.patient_id, p.nom, c.date_consultation, c.type_consultation, ps.nom\n",
    "    FROM Patients p\n",
    "    JOIN Consultations c ON p.patient_id = c.patient_id\n",
    "    JOIN Professionnels_de_Sante ps ON c.pro_id = ps.pro_id\n",
    "    WHERE c.type_consultation = 'Médicale'\n",
    "    ORDER BY c.date_consultation DESC\n",
    "''')\n",
    "print(cursor.fetchall())"
   ]
  },
  {
   "cell_type": "code",
   "execution_count": 25,
   "metadata": {},
   "outputs": [
    {
     "name": "stdout",
     "output_type": "stream",
     "text": [
      "Patients ayant eu des consultations médicales récemment :\n"
     ]
    }
   ],
   "source": [
    "requete = \"\"\"\n",
    "SELECT p.nom, p.prenom, c.date_consultation, c.type_consultation, ps.nom AS nom_pro, ps.prenom AS prenom_pro\n",
    "FROM Patients p\n",
    "JOIN Consultations c ON p.patient_id = c.patient_id\n",
    "JOIN Professionnels_de_Sante ps ON c.pro_id = ps.pro_id\n",
    "WHERE c.type_consultation = 'Médicale' AND c.date_consultation >= DATE('2025-03-05', '-30 days')\n",
    "\"\"\"\n",
    "cursor.execute(requete)\n",
    "resultats = cursor.fetchall()\n",
    "\n",
    "print(\"Patients ayant eu des consultations médicales récemment :\")\n",
    "for ligne in resultats:\n",
    "    print(ligne)"
   ]
  },
  {
   "cell_type": "markdown",
   "metadata": {},
   "source": [
    "a. Tables impliquées\n",
    "Patients : Contient les informations sur les patients (par exemple, patient_id, nom).\n",
    "\n",
    "Consultations : Contient les informations sur les consultations (par exemple, date_consultation, type_consultation, patient_id, pro_id).\n",
    "\n",
    "Professionnels_de_Sante : Contient les informations sur les professionnels de santé (par exemple, pro_id, nom).\n",
    "\n",
    "b. Jointures\n",
    "JOIN Consultations c ON p.patient_id = c.patient_id :\n",
    "\n",
    "Joint la table Patients (p) avec la table Consultations (c) sur la clé patient_id.\n",
    "\n",
    "Cela permet d'associer chaque patient à ses consultations.\n",
    "\n",
    "JOIN Professionnels_de_Sante ps ON c.pro_id = ps.pro_id :\n",
    "\n",
    "Joint la table Consultations (c) avec la table Professionnels_de_Sante (ps) sur la clé pro_id.\n",
    "\n",
    "Cela permet d'associer chaque consultation au professionnel de santé qui l'a effectuée.\n",
    "\n",
    "c. Filtrage\n",
    "WHERE c.type_consultation = 'Médicale' :\n",
    "\n",
    "Filtre les consultations pour ne garder que celles dont le type est \"Médicale\".\n",
    "\n",
    "d. Tri\n",
    "ORDER BY c.date_consultation DESC :\n",
    "\n",
    "Trie les résultats par date de consultation en ordre décroissant (du plus récent au plus ancien).\n",
    "\n",
    "e. Sélection des colonnes\n",
    "SELECT p.patient_id, p.nom, c.date_consultation, c.type_consultation, ps.nom :\n",
    "\n",
    "Sélectionne les colonnes suivantes :\n",
    "\n",
    "p.patient_id : Identifiant du patient.\n",
    "\n",
    "p.nom : Nom du patient.\n",
    "\n",
    "c.date_consultation : Date de la consultation.\n",
    "\n",
    "c.type_consultation : Type de la consultation (ici, toujours \"Médicale\").\n",
    "\n",
    "ps.nom : Nom du professionnel de santé.\n",
    "\n",
    "4. Explication du code Python\n",
    "a. Exécution de la requête\n",
    "cursor.execute(...) :\n",
    "\n",
    "Exécute la requête SQL sur la base de données.\n",
    "\n",
    "b. Récupération des résultats\n",
    "cursor.fetchall() :\n",
    "\n",
    "Récupère tous les résultats de la requête sous forme de liste de tuples.\n",
    "\n",
    "c. Affichage des résultats\n",
    "print(cursor.fetchall()) :\n",
    "\n"
   ]
  },
  {
   "cell_type": "code",
   "execution_count": 26,
   "metadata": {},
   "outputs": [
    {
     "name": "stdout",
     "output_type": "stream",
     "text": [
      "\n",
      "2. Consultations en attente de remboursement\n",
      "[]\n"
     ]
    }
   ],
   "source": [
    "#Consultations en attente de remboursement\n",
    "print(\"\\n2. Consultations en attente de remboursement\")\n",
    "cursor.execute('''\n",
    "    SELECT c.consultation_id, p.nom, c.date_consultation\n",
    "    FROM Consultations c\n",
    "    JOIN Patients p ON c.patient_id = p.patient_id\n",
    "    LEFT JOIN Remboursement r ON c.consultation_id = r.consultation_id\n",
    "    WHERE r.consultation_id IS NULL\n",
    "''')\n",
    "print(cursor.fetchall())"
   ]
  },
  {
   "cell_type": "markdown",
   "metadata": {},
   "source": [
    "La requête sélectionne les consultations (consultation_id), le nom du patient (p.nom) et la date de la consultation (c.date_consultation).\n",
    "\n",
    "Elle joint les tables :\n",
    "\n",
    "Consultations (c) avec Patients (p) pour associer chaque consultation à un patient.\n",
    "\n",
    "Consultations (c) avec Remboursements (r) pour vérifier si un remboursement existe.\n",
    "\n",
    "La clause LEFT JOIN garantit que toutes les consultations sont incluses, même si aucun remboursement n'existe.\n",
    "\n",
    "La condition WHERE r.consultation_id IS NULL filtre les consultations sans remboursement."
   ]
  },
  {
   "cell_type": "code",
   "execution_count": 28,
   "metadata": {},
   "outputs": [
    {
     "name": "stdout",
     "output_type": "stream",
     "text": [
      "\n",
      "3. Médicaments prescrits lors des consultations remboursées\n",
      "[]\n"
     ]
    }
   ],
   "source": [
    "# 3. Médicaments prescrits lors des consultations déjà remboursées\n",
    "print(\"\\n3. Médicaments prescrits lors des consultations remboursées\")\n",
    "cursor.execute('''\n",
    "    SELECT DISTINCT m.nom_medicament\n",
    "    FROM Medicaments m\n",
    "    JOIN Prescriptions pr ON m.medicament_id = pr.medicament_id\n",
    "    JOIN Remboursement r ON pr.consultation_id = r.consultation_id\n",
    "''')\n",
    "print(cursor.fetchall())"
   ]
  },
  {
   "cell_type": "code",
   "execution_count": null,
   "metadata": {},
   "outputs": [],
   "source": [
    "Cette requête récupère la liste des médicaments prescrits lors de consultations déjà remboursées. Elle utilise les tables Medicaments, Prescriptions et Remboursements pour :\n",
    "\n",
    "Joindre les médicaments aux prescriptions et aux remboursements.\n",
    "\n",
    "Filtrer pour ne garder que les médicaments prescrits lors de consultations remboursées.\n",
    "\n",
    "Retourner les noms des médicaments de manière distincte (sans doublons)."
   ]
  },
  {
   "cell_type": "code",
   "execution_count": 30,
   "metadata": {},
   "outputs": [
    {
     "name": "stdout",
     "output_type": "stream",
     "text": [
      "\n",
      "4. Montant total remboursé par patient\n",
      "[(1, 'Dupont', 480), (2, 'Martin', 600), (3, 'Bernard', 360), (4, 'Petit', 540), (5, 'Moreau', 420), (6, 'Lefebvre', 300), (7, 'Roux', 720), (8, 'Fournier', 660), (9, 'Girard', 480), (10, 'Bonnet', 600), (11, 'Dubois', 320), (12, 'Lambert', 400), (13, 'Fontaine', 240), (14, 'Rousseau', 360), (15, 'Vincent', 280), (16, 'Muller', 200), (17, 'Leroy', 480), (18, 'Blanc', 440), (19, 'Garnier', 320), (20, 'Caron', 400)]\n"
     ]
    }
   ],
   "source": [
    "# 4. Montant total remboursé par patient\n",
    "print(\"\\n4. Montant total remboursé par patient\")\n",
    "cursor.execute('''\n",
    "    SELECT p.patient_id, p.nom, SUM(r.montant_rembourse) as total_rembourse\n",
    "    FROM Patients p\n",
    "    JOIN Consultations c ON p.patient_id = c.patient_id\n",
    "    JOIN Remboursement r ON c.consultation_id = r.consultation_id\n",
    "    GROUP BY p.patient_id\n",
    "''')\n",
    "print(cursor.fetchall())"
   ]
  },
  {
   "cell_type": "markdown",
   "metadata": {},
   "source": [
    "Cette requête calcule le montant total remboursé par patient. Elle joint les tables Patients, Consultations et Remboursements pour :\n",
    "\n",
    "Associer chaque patient à ses consultations et remboursements.\n",
    "\n",
    "Calculer la somme des montants remboursés (SUM(r.montant_rembourse)) pour chaque patient.\n",
    "\n",
    "Grouper les résultats par patient (GROUP BY p.patient_id)."
   ]
  },
  {
   "cell_type": "code",
   "execution_count": 31,
   "metadata": {},
   "outputs": [
    {
     "name": "stdout",
     "output_type": "stream",
     "text": [
      "\n",
      "5. Patients avec des dépenses au-dessus de la moyenne\n",
      "[(1, 'Dupont', 140.0), (2, 'Martin', 155.0), (3, 'Bernard', 140.0), (4, 'Petit', 135.0), (5, 'Moreau', 150.0), (6, 'Lefebvre', 170.0), (7, 'Roux', 185.0), (8, 'Fournier', 175.0), (9, 'Girard', 160.0), (10, 'Bonnet', 170.0), (11, 'Dubois', 110.0), (12, 'Lambert', 100.0), (13, 'Fontaine', 95.0), (14, 'Rousseau', 100.0), (15, 'Vincent', 80.0), (16, 'Muller', 105.0), (17, 'Leroy', 135.0), (18, 'Blanc', 115.0), (19, 'Garnier', 110.0), (20, 'Caron', 110.0)]\n"
     ]
    }
   ],
   "source": [
    "#5. Patients dont les dépenses dépassent la moyenne\n",
    "print(\"\\n5. Patients avec des dépenses au-dessus de la moyenne\")\n",
    "cursor.execute('''\n",
    "    SELECT p.patient_id, p.nom, SUM(c.cout_consultation) as total_depense\n",
    "    FROM Patients p\n",
    "    JOIN Consultations c ON p.patient_id = c.patient_id\n",
    "    GROUP BY p.patient_id\n",
    "    HAVING total_depense > (SELECT AVG(cout_consultation) FROM Consultations)\n",
    "''')\n",
    "print(cursor.fetchall())"
   ]
  },
  {
   "cell_type": "markdown",
   "metadata": {},
   "source": [
    "Cette requête identifie les patients dont les dépenses totales en consultations dépassent la moyenne. Elle :\n",
    "\n",
    "Calcule la somme des coûts des consultations (SUM(c.cout_consultation)) pour chaque patient.\n",
    "\n",
    "Compare cette somme à la moyenne des coûts des consultations (AVG(cout_consultation)).\n",
    "\n",
    "Filtre avec HAVING pour ne garder que les patients dont les dépenses dépassent cette moyenne.\n",
    "\n",
    "Résultat : Une liste de patients avec leur ID, nom et dépenses totales supérieures à la moyenne."
   ]
  },
  {
   "cell_type": "code",
   "execution_count": 33,
   "metadata": {},
   "outputs": [
    {
     "name": "stdout",
     "output_type": "stream",
     "text": [
      "\n",
      "6. Professionnel avec le plus de consultations remboursées\n",
      "[]\n"
     ]
    }
   ],
   "source": [
    "# 6. Professionnel ayant fait le plus de consultations remboursées\n",
    "print(\"\\n6. Professionnel avec le plus de consultations remboursées\")\n",
    "cursor.execute('''\n",
    "    SELECT ps.nom, COUNT(*) as total_consultations\n",
    "    FROM Professionnels_de_Sante ps\n",
    "    JOIN Consultations c ON ps.pro_id = c.pro_id\n",
    "    JOIN Remboursement r ON c.consultation_id = r.consultation_id\n",
    "    GROUP BY ps.nom\n",
    "    ORDER BY total_consultations DESC\n",
    "    LIMIT 1\n",
    "''')\n",
    "print(cursor.fetchall())"
   ]
  },
  {
   "cell_type": "markdown",
   "metadata": {},
   "source": [
    "Cette requête identifie le professionnel de santé ayant effectué le plus de consultations remboursées. Elle :\n",
    "\n",
    "Compte le nombre de consultations remboursées (COUNT(*)) pour chaque professionnel.\n",
    "\n",
    "Groupe les résultats par professionnel (GROUP BY ps.nom).\n",
    "\n",
    "Trie les professionnels par nombre de consultations en ordre décroissant (ORDER BY total_consultations DESC).\n",
    "\n",
    "Limite le résultat au professionnel avec le plus de consultations (LIMIT 1)."
   ]
  },
  {
   "cell_type": "code",
   "execution_count": 34,
   "metadata": {},
   "outputs": [
    {
     "name": "stdout",
     "output_type": "stream",
     "text": [
      "Consultations paramédicales avec prescriptions de médicaments :\n"
     ]
    }
   ],
   "source": [
    "#7  \n",
    "requete = \"\"\"\n",
    "SELECT c.consultation_id, c.date_consultation, c.type_consultation, m.nom_medicament\n",
    "FROM Consultations c\n",
    "JOIN Prescriptions pr ON c.consultation_id = pr.consultation_id\n",
    "JOIN Medicaments m ON pr.medicament_id = m.medicament_id\n",
    "WHERE c.type_consultation = 'Paramédicale'\n",
    "\"\"\"\n",
    "cursor.execute(requete)\n",
    "resultats = cursor.fetchall()\n",
    "\n",
    "print(\"Consultations paramédicales avec prescriptions de médicaments :\")\n",
    "for ligne in resultats:\n",
    "    print(ligne)"
   ]
  },
  {
   "cell_type": "markdown",
   "metadata": {},
   "source": [
    "SELECT c.consultation_id, c.date_consultation, c.type_consultation, m.nom_medicament : Sélectionne les informations des consultations et des médicaments.\n",
    "\n",
    "FROM Consultations c : Table de base pour les consultations.\n",
    "\n",
    "JOIN Prescriptions pr ON c.consultation_id = pr.consultation_id : Jointure avec la table Prescriptions.\n",
    "\n",
    "JOIN Medicaments m ON pr.medicament_id = m.medicament_id : Jointure avec la table Medicaments.\n",
    "\n",
    "WHERE c.type_consultation = 'Paramédicale' : Filtre les consultations paramédicales."
   ]
  },
  {
   "cell_type": "code",
   "execution_count": 37,
   "metadata": {},
   "outputs": [
    {
     "name": "stdout",
     "output_type": "stream",
     "text": [
      "Taux de remboursement par type de consultation :\n",
      "('Médicale', 0.0)\n",
      "('Paramédicale', 0.0)\n"
     ]
    }
   ],
   "source": [
    "#8\n",
    "requete = \"\"\"\n",
    "SELECT c.type_consultation,\n",
    "       COUNT(r.remboursement_id) * 100.0 / COUNT(c.consultation_id) AS taux_remboursement\n",
    "FROM Consultations c\n",
    "LEFT JOIN Remboursement r ON c.consultation_id = r.consultation_id\n",
    "GROUP BY c.type_consultation\n",
    "\"\"\"\n",
    "cursor.execute(requete)\n",
    "resultats = cursor.fetchall()\n",
    "\n",
    "print(\"Taux de remboursement par type de consultation :\")\n",
    "for ligne in resultats:\n",
    "    print(ligne)"
   ]
  },
  {
   "cell_type": "markdown",
   "metadata": {},
   "source": [
    "SELECT c.type_consultation, COUNT(r.remboursement_id) * 100.0 / COUNT(c.consultation_id) AS taux_remboursement : Calcule le taux de remboursement pour chaque type de consultation.\n",
    "\n",
    "FROM Consultations c : Table de base pour les consultations.\n",
    "\n",
    "LEFT JOIN Remboursements r ON c.consultation_id = r.consultation_id : Jointure avec la table Remboursements.\n",
    "\n",
    "GROUP BY c.type_consultation : Regroupe les résultats par type de consultation."
   ]
  },
  {
   "cell_type": "code",
   "execution_count": 39,
   "metadata": {},
   "outputs": [
    {
     "name": "stdout",
     "output_type": "stream",
     "text": [
      "Taux de remboursement par type de consultation :\n",
      "Type: Médicale, Taux: 0.00%\n",
      "Type: Paramédicale, Taux: 0.00%\n"
     ]
    }
   ],
   "source": [
    "#8\n",
    "requete = \"\"\"\n",
    "\n",
    "SELECT c.type_consultation,\n",
    "       COUNT(r.remboursement_id) * 100.0 / COUNT(c.consultation_id) AS taux_remboursement\n",
    "FROM Consultations c\n",
    "LEFT JOIN Remboursement r ON c.consultation_id = r.consultation_id\n",
    "GROUP BY c.type_consultation\n",
    "\"\"\"\n",
    "cursor.execute(requete)\n",
    "resultats = cursor.fetchall()\n",
    "\n",
    "print(\"Taux de remboursement par type de consultation :\")\n",
    "for ligne in resultats:\n",
    "    print(f\"Type: {ligne[0]}, Taux: {ligne[1]:.2f}%\")"
   ]
  },
  {
   "cell_type": "markdown",
   "metadata": {},
   "source": [
    "COUNT(r.remboursement_id) : Compte le nombre de remboursements pour chaque type de consultation.\n",
    "\n",
    "COUNT(c.consultation_id) : Compte le nombre total de consultations pour chaque type.\n",
    "\n",
    "LEFT JOIN Remboursements r : Jointure avec la table Remboursements pour vérifier si une consultation a été remboursée.\n",
    "\n",
    "GROUP BY c.type_consultation : Regroupe les résultats par type de consultation."
   ]
  },
  {
   "cell_type": "code",
   "execution_count": null,
   "metadata": {},
   "outputs": [
    {
     "name": "stdout",
     "output_type": "stream",
     "text": [
      "Médicaments jamais remboursés :\n",
      "Paracétamol\n",
      "Ibuprofène\n",
      "Amoxicilline\n",
      "Doliprane\n",
      "Voltarène\n",
      "Smecta\n",
      "Levothyrox\n",
      "Ventoline\n",
      "Dafalgan\n",
      "Spasfon\n"
     ]
    }
   ],
   "source": [
    "#9\n",
    "requete = \"\"\"\n",
    "SELECT DISTINCT m.nom_medicament\n",
    "FROM Medicaments m\n",
    "LEFT JOIN Prescriptions pr ON m.medicament_id = pr.medicament_id\n",
    "LEFT JOIN Remboursement r ON pr.consultation_id = r.consultation_id\n",
    "WHERE r.remboursement_id IS NULL\n",
    "\"\"\"\n",
    "cursor.execute(requete)\n",
    "resultats = cursor.fetchall()\n",
    "\n",
    "print(\"Médicaments jamais remboursés :\")\n",
    "for ligne in resultats:\n",
    "    print(ligne[0])"
   ]
  },
  {
   "cell_type": "markdown",
   "metadata": {},
   "source": [
    "LEFT JOIN Prescriptions pr : Jointure avec la table Prescriptions pour récupérer les médicaments prescrits.\n",
    "\n",
    "LEFT JOIN Remboursements r : Jointure avec la table Remboursements pour vérifier si une prescription a été remboursée.\n",
    "\n",
    "WHERE r.remboursement_id IS NULL : Filtre les médicaments qui n'ont jamais été remboursés."
   ]
  },
  {
   "cell_type": "code",
   "execution_count": 42,
   "metadata": {},
   "outputs": [
    {
     "name": "stdout",
     "output_type": "stream",
     "text": [
      "Patients ayant consulté plusieurs types de professionnels :\n"
     ]
    }
   ],
   "source": [
    "#10\n",
    "requete = \"\"\"\n",
    "SELECT p.patient_id, p.nom, p.prenom\n",
    "FROM Patients p\n",
    "JOIN Consultations c ON p.patient_id = c.patient_id\n",
    "JOIN Professionnels_de_Sante ps ON c.pro_id = ps.pro_id\n",
    "GROUP BY p.patient_id\n",
    "HAVING COUNT(DISTINCT ps.specialite) >= 2\n",
    "\"\"\"\n",
    "cursor.execute(requete)\n",
    "resultats = cursor.fetchall()\n",
    "\n",
    "print(\"Patients ayant consulté plusieurs types de professionnels :\")\n",
    "for ligne in resultats:\n",
    "    print(f\"Patient: {ligne[1]} {ligne[2]}\")"
   ]
  },
  {
   "cell_type": "markdown",
   "metadata": {},
   "source": [
    "COUNT(DISTINCT ps.specialite) : Compte le nombre de spécialités différentes consultées par chaque patient.\n",
    "\n",
    "HAVING COUNT(DISTINCT ps.specialite) >= 2 : Filtre les patients ayant consulté au moins deux spécialités différentes."
   ]
  },
  {
   "cell_type": "code",
   "execution_count": 43,
   "metadata": {},
   "outputs": [
    {
     "name": "stdout",
     "output_type": "stream",
     "text": [
      "Dépense moyenne par type de consultation :\n",
      "Type: Médicale, Dépense moyenne: 59.67 €\n",
      "Type: Paramédicale, Dépense moyenne: 42.50 €\n"
     ]
    }
   ],
   "source": [
    "#11\n",
    "requete = \"\"\"\n",
    "SELECT c.type_consultation, AVG(c.cout_consultation) AS depense_moyenne\n",
    "FROM Consultations c\n",
    "GROUP BY c.type_consultation\n",
    "\"\"\"\n",
    "cursor.execute(requete)\n",
    "resultats = cursor.fetchall()\n",
    "\n",
    "print(\"Dépense moyenne par type de consultation :\")\n",
    "for ligne in resultats:\n",
    "    print(f\"Type: {ligne[0]}, Dépense moyenne: {ligne[1]:.2f} €\")"
   ]
  },
  {
   "cell_type": "markdown",
   "metadata": {},
   "source": [
    "AVG(c.cout_consultation) : Calcule la moyenne des coûts de consultation pour chaque type.\n",
    "\n",
    "GROUP BY c.type_consultation : Regroupe les résultats par type de consultation."
   ]
  },
  {
   "cell_type": "code",
   "execution_count": 45,
   "metadata": {},
   "outputs": [
    {
     "name": "stdout",
     "output_type": "stream",
     "text": [
      "Médicaments les plus prescrits lors des consultations remboursées :\n"
     ]
    }
   ],
   "source": [
    "#12\n",
    "requete = \"\"\"\n",
    "SELECT m.nom_medicament, COUNT(pr.prescription_id) AS nb_prescriptions\n",
    "FROM Medicaments m\n",
    "JOIN Prescriptions pr ON m.medicament_id = pr.medicament_id\n",
    "JOIN Consultations c ON pr.consultation_id = c.consultation_id\n",
    "JOIN Remboursement r ON c.consultation_id = r.consultation_id\n",
    "GROUP BY m.nom_medicament\n",
    "ORDER BY nb_prescriptions DESC\n",
    "\"\"\"\n",
    "cursor.execute(requete)\n",
    "resultats = cursor.fetchall()\n",
    "\n",
    "print(\"Médicaments les plus prescrits lors des consultations remboursées :\")\n",
    "for ligne in resultats:\n",
    "    print(f\"Médicament: {ligne[0]}, Prescriptions: {ligne[1]}\")"
   ]
  },
  {
   "cell_type": "markdown",
   "metadata": {},
   "source": [
    "COUNT(pr.prescription_id) : Compte le nombre de prescriptions pour chaque médicament.\n",
    "\n",
    "JOIN Remboursements r : Filtre les consultations remboursées.\n",
    "\n",
    "ORDER BY nb_prescriptions DESC : Trie les résultats par nombre de prescriptions en ordre décroissant."
   ]
  },
  {
   "cell_type": "code",
   "execution_count": null,
   "metadata": {},
   "outputs": [
    {
     "name": "stdout",
     "output_type": "stream",
     "text": [
      "Patients sans remboursement au cours des six derniers mois :\n",
      "Patient: Dupont Jean\n",
      "Patient: Martin Sophie\n",
      "Patient: Bernard Luc\n",
      "Patient: Petit Marie\n",
      "Patient: Moreau Pierre\n",
      "Patient: Lefebvre Julie\n",
      "Patient: Roux Thomas\n",
      "Patient: Fournier Laura\n",
      "Patient: Girard Nicolas\n",
      "Patient: Bonnet Alice\n",
      "Patient: Dubois Paul\n",
      "Patient: Lambert Chloé\n",
      "Patient: Fontaine Antoine\n",
      "Patient: Rousseau Elise\n",
      "Patient: Vincent Hugo\n",
      "Patient: Muller Léa\n",
      "Patient: Leroy Mathieu\n",
      "Patient: Blanc Camille\n",
      "Patient: Garnier Julien\n",
      "Patient: Caron Manon\n",
      "Patient: Dupont Jean\n",
      "Patient: Martin Sophie\n",
      "Patient: Bernard Luc\n",
      "Patient: Petit Marie\n",
      "Patient: Moreau Pierre\n",
      "Patient: Lefebvre Julie\n",
      "Patient: Roux Thomas\n",
      "Patient: Fournier Laura\n",
      "Patient: Girard Nicolas\n",
      "Patient: Bonnet Alice\n",
      "Patient: Dubois Paul\n",
      "Patient: Lambert Chloé\n",
      "Patient: Fontaine Antoine\n",
      "Patient: Rousseau Elise\n",
      "Patient: Vincent Hugo\n",
      "Patient: Muller Léa\n",
      "Patient: Leroy Mathieu\n",
      "Patient: Blanc Camille\n",
      "Patient: Garnier Julien\n",
      "Patient: Caron Manon\n",
      "Patient: Dupont Jean\n",
      "Patient: Martin Sophie\n",
      "Patient: Bernard Luc\n",
      "Patient: Petit Marie\n",
      "Patient: Moreau Pierre\n",
      "Patient: Lefebvre Julie\n",
      "Patient: Roux Thomas\n",
      "Patient: Fournier Laura\n",
      "Patient: Girard Nicolas\n",
      "Patient: Bonnet Alice\n",
      "Patient: Dubois Paul\n",
      "Patient: Lambert Chloé\n",
      "Patient: Fontaine Antoine\n",
      "Patient: Rousseau Elise\n",
      "Patient: Vincent Hugo\n",
      "Patient: Muller Léa\n",
      "Patient: Leroy Mathieu\n",
      "Patient: Blanc Camille\n",
      "Patient: Garnier Julien\n",
      "Patient: Caron Manon\n",
      "Patient: Dupont Jean\n",
      "Patient: Martin Sophie\n",
      "Patient: Bernard Luc\n",
      "Patient: Petit Marie\n",
      "Patient: Moreau Pierre\n",
      "Patient: Lefebvre Julie\n",
      "Patient: Roux Thomas\n",
      "Patient: Fournier Laura\n",
      "Patient: Girard Nicolas\n",
      "Patient: Bonnet Alice\n",
      "Patient: Dubois Paul\n",
      "Patient: Lambert Chloé\n",
      "Patient: Fontaine Antoine\n",
      "Patient: Rousseau Elise\n",
      "Patient: Vincent Hugo\n",
      "Patient: Muller Léa\n",
      "Patient: Leroy Mathieu\n",
      "Patient: Blanc Camille\n",
      "Patient: Garnier Julien\n",
      "Patient: Caron Manon\n"
     ]
    }
   ],
   "source": [
    "#13\n",
    "requete = \"\"\"\n",
    "SELECT p.patient_id, p.nom, p.prenom\n",
    "FROM Patients p\n",
    "LEFT JOIN Consultations c ON p.patient_id = c.patient_id\n",
    "LEFT JOIN Remboursement r ON c.consultation_id = r.consultation_id\n",
    "WHERE r.remboursement_id IS NULL OR r.date_remboursement < DATE('now', '-6 months')\n",
    "GROUP BY p.patient_id\n",
    "\"\"\"\n",
    "cursor.execute(requete)\n",
    "resultats = cursor.fetchall()\n",
    "\n",
    "print(\"Patients sans remboursement au cours des six derniers mois :\")\n",
    "for ligne in resultats:\n",
    "    print(f\"Patient: {ligne[1]} {ligne[2]}\")"
   ]
  },
  {
   "cell_type": "markdown",
   "metadata": {},
   "source": [
    "AVG(r.montant_rembourse) : Calcule le montant moyen remboursé pour chaque type de consultation.\n",
    "\n",
    "GROUP BY c.type_consultation : Regroupe les résultats par type de consultation."
   ]
  },
  {
   "cell_type": "code",
   "execution_count": null,
   "metadata": {},
   "outputs": [
    {
     "name": "stdout",
     "output_type": "stream",
     "text": [
      "Remboursement moyen par type de consultation :\n",
      "Type: Médicale, Remboursement moyen: 44.83 €\n",
      "Type: Paramédicale, Remboursement moyen: 40.25 €\n"
     ]
    }
   ],
   "source": [
    "#14\n",
    "requete = \"\"\"\n",
    "SELECT c.type_consultation, AVG(r.montant_rembourse) AS remboursement_moyen\n",
    "FROM Consultations c\n",
    "JOIN Remboursement r ON c.consultation_id = r.consultation_id\n",
    "GROUP BY c.type_consultation\n",
    "\"\"\"\n",
    "cursor.execute(requete)\n",
    "resultats = cursor.fetchall()\n",
    "\n",
    "print(\"Remboursement moyen par type de consultation :\")\n",
    "for ligne in resultats:\n",
    "    print(f\"Type: {ligne[0]}, Remboursement moyen: {ligne[1]:.2f} €\")"
   ]
  },
  {
   "cell_type": "markdown",
   "metadata": {},
   "source": [
    "AVG(r.montant_rembourse) : Calcule le montant moyen remboursé pour chaque type de consultation.\n",
    "\n",
    "GROUP BY c.type_consultation : Regroupe les résultats par type de consultation."
   ]
  },
  {
   "cell_type": "code",
   "execution_count": null,
   "metadata": {},
   "outputs": [
    {
     "name": "stdout",
     "output_type": "stream",
     "text": [
      "Remboursements traités avec du retard :\n"
     ]
    }
   ],
   "source": [
    "\n",
    "#15\n",
    "  \n",
    "requete = \"\"\"\n",
    "SELECT r.remboursement_id, r.date_remboursement, c.date_consultation, p.nom, p.prenom\n",
    "FROM Remboursement r\n",
    "JOIN Consultations c ON r.consultation_id = c.consultation_id\n",
    "JOIN Patients p ON c.patient_id = p.patient_id\n",
    "WHERE JULIANDAY(r.date_remboursement) - JULIANDAY(c.date_consultation) > 30\n",
    "\"\"\"\n",
    "cursor.execute(requete)\n",
    "resultats = cursor.fetchall()\n",
    "\n",
    "print(\"Remboursements traités avec du retard :\")\n",
    "for ligne in resultats:\n",
    "    print(f\"Remboursement ID: {ligne[0]}, Date remboursement: {ligne[1]}, Date consultation: {ligne[2]}, Patient: {ligne[3]} {ligne[4]}\")"
   ]
  },
  {
   "cell_type": "markdown",
   "metadata": {},
   "source": [
    "JULIANDAY(r.date_remboursement) - JULIANDAY(c.date_consultation) > 30 : Calcule la différence en jours entre la date de remboursement et la date de consultation, et filtre les remboursements traités en plus de 30 jours."
   ]
  },
  {
   "cell_type": "markdown",
   "metadata": {},
   "source": [
    "FIN PROJET CHERIFA \n"
   ]
  }
 ],
 "metadata": {
  "kernelspec": {
   "display_name": "Python 3",
   "language": "python",
   "name": "python3"
  },
  "language_info": {
   "codemirror_mode": {
    "name": "ipython",
    "version": 3
   },
   "file_extension": ".py",
   "mimetype": "text/x-python",
   "name": "python",
   "nbconvert_exporter": "python",
   "pygments_lexer": "ipython3",
   "version": "3.10.11"
  }
 },
 "nbformat": 4,
 "nbformat_minor": 2
}
